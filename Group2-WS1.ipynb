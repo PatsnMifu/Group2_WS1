{
 "cells": [
  {
   "cell_type": "code",
   "execution_count": 3,
   "id": "2500ab9d-ecc3-48a5-b164-470103cf3026",
   "metadata": {},
   "outputs": [],
   "source": [
    "#This program will create neural networks\n",
    "#Written by: (Bantigue, DeLos Reyes, Lazarito, Ridulme, Tayco, Valerio)\n",
    "#Date: September 14, 2024 \n",
    "#Time: 10:00 pm \n",
    "#Program: MDT\n",
    "#Course: BI123L\n",
    "#Section: CON10\n",
    "#School: Mapua University"
   ]
  },
  {
   "cell_type": "code",
   "execution_count": 5,
   "id": "3bf84dcb-9f6e-4a57-9d98-94cc4a4c4c8c",
   "metadata": {
    "scrolled": true
   },
   "outputs": [
    {
     "name": "stdout",
     "output_type": "stream",
     "text": [
      "Requirement already satisfied: tensorflow in d:\\anaconda\\lib\\site-packages (2.17.0)\n",
      "Requirement already satisfied: tensorflow-intel==2.17.0 in d:\\anaconda\\lib\\site-packages (from tensorflow) (2.17.0)\n",
      "Requirement already satisfied: absl-py>=1.0.0 in d:\\anaconda\\lib\\site-packages (from tensorflow-intel==2.17.0->tensorflow) (2.1.0)\n",
      "Requirement already satisfied: astunparse>=1.6.0 in d:\\anaconda\\lib\\site-packages (from tensorflow-intel==2.17.0->tensorflow) (1.6.3)\n",
      "Requirement already satisfied: flatbuffers>=24.3.25 in d:\\anaconda\\lib\\site-packages (from tensorflow-intel==2.17.0->tensorflow) (24.3.25)\n",
      "Requirement already satisfied: gast!=0.5.0,!=0.5.1,!=0.5.2,>=0.2.1 in d:\\anaconda\\lib\\site-packages (from tensorflow-intel==2.17.0->tensorflow) (0.6.0)\n",
      "Requirement already satisfied: google-pasta>=0.1.1 in d:\\anaconda\\lib\\site-packages (from tensorflow-intel==2.17.0->tensorflow) (0.2.0)\n",
      "Requirement already satisfied: h5py>=3.10.0 in d:\\anaconda\\lib\\site-packages (from tensorflow-intel==2.17.0->tensorflow) (3.11.0)\n",
      "Requirement already satisfied: libclang>=13.0.0 in d:\\anaconda\\lib\\site-packages (from tensorflow-intel==2.17.0->tensorflow) (18.1.1)\n",
      "Requirement already satisfied: ml-dtypes<0.5.0,>=0.3.1 in d:\\anaconda\\lib\\site-packages (from tensorflow-intel==2.17.0->tensorflow) (0.4.1)\n",
      "Requirement already satisfied: opt-einsum>=2.3.2 in d:\\anaconda\\lib\\site-packages (from tensorflow-intel==2.17.0->tensorflow) (3.3.0)\n",
      "Requirement already satisfied: packaging in d:\\anaconda\\lib\\site-packages (from tensorflow-intel==2.17.0->tensorflow) (23.2)\n",
      "Requirement already satisfied: protobuf!=4.21.0,!=4.21.1,!=4.21.2,!=4.21.3,!=4.21.4,!=4.21.5,<5.0.0dev,>=3.20.3 in d:\\anaconda\\lib\\site-packages (from tensorflow-intel==2.17.0->tensorflow) (3.20.3)\n",
      "Requirement already satisfied: requests<3,>=2.21.0 in d:\\anaconda\\lib\\site-packages (from tensorflow-intel==2.17.0->tensorflow) (2.32.2)\n",
      "Requirement already satisfied: setuptools in d:\\anaconda\\lib\\site-packages (from tensorflow-intel==2.17.0->tensorflow) (69.5.1)\n",
      "Requirement already satisfied: six>=1.12.0 in d:\\anaconda\\lib\\site-packages (from tensorflow-intel==2.17.0->tensorflow) (1.16.0)\n",
      "Requirement already satisfied: termcolor>=1.1.0 in d:\\anaconda\\lib\\site-packages (from tensorflow-intel==2.17.0->tensorflow) (2.4.0)\n",
      "Requirement already satisfied: typing-extensions>=3.6.6 in d:\\anaconda\\lib\\site-packages (from tensorflow-intel==2.17.0->tensorflow) (4.11.0)\n",
      "Requirement already satisfied: wrapt>=1.11.0 in d:\\anaconda\\lib\\site-packages (from tensorflow-intel==2.17.0->tensorflow) (1.14.1)\n",
      "Requirement already satisfied: grpcio<2.0,>=1.24.3 in d:\\anaconda\\lib\\site-packages (from tensorflow-intel==2.17.0->tensorflow) (1.66.1)\n",
      "Requirement already satisfied: tensorboard<2.18,>=2.17 in d:\\anaconda\\lib\\site-packages (from tensorflow-intel==2.17.0->tensorflow) (2.17.1)\n",
      "Requirement already satisfied: keras>=3.2.0 in d:\\anaconda\\lib\\site-packages (from tensorflow-intel==2.17.0->tensorflow) (3.5.0)\n",
      "Requirement already satisfied: numpy<2.0.0,>=1.26.0 in d:\\anaconda\\lib\\site-packages (from tensorflow-intel==2.17.0->tensorflow) (1.26.4)\n",
      "Requirement already satisfied: wheel<1.0,>=0.23.0 in d:\\anaconda\\lib\\site-packages (from astunparse>=1.6.0->tensorflow-intel==2.17.0->tensorflow) (0.43.0)\n",
      "Requirement already satisfied: rich in d:\\anaconda\\lib\\site-packages (from keras>=3.2.0->tensorflow-intel==2.17.0->tensorflow) (13.3.5)\n",
      "Requirement already satisfied: namex in d:\\anaconda\\lib\\site-packages (from keras>=3.2.0->tensorflow-intel==2.17.0->tensorflow) (0.0.8)\n",
      "Requirement already satisfied: optree in d:\\anaconda\\lib\\site-packages (from keras>=3.2.0->tensorflow-intel==2.17.0->tensorflow) (0.12.1)\n",
      "Requirement already satisfied: charset-normalizer<4,>=2 in d:\\anaconda\\lib\\site-packages (from requests<3,>=2.21.0->tensorflow-intel==2.17.0->tensorflow) (2.0.4)\n",
      "Requirement already satisfied: idna<4,>=2.5 in d:\\anaconda\\lib\\site-packages (from requests<3,>=2.21.0->tensorflow-intel==2.17.0->tensorflow) (3.7)\n",
      "Requirement already satisfied: urllib3<3,>=1.21.1 in d:\\anaconda\\lib\\site-packages (from requests<3,>=2.21.0->tensorflow-intel==2.17.0->tensorflow) (2.2.2)\n",
      "Requirement already satisfied: certifi>=2017.4.17 in d:\\anaconda\\lib\\site-packages (from requests<3,>=2.21.0->tensorflow-intel==2.17.0->tensorflow) (2024.7.4)\n",
      "Requirement already satisfied: markdown>=2.6.8 in d:\\anaconda\\lib\\site-packages (from tensorboard<2.18,>=2.17->tensorflow-intel==2.17.0->tensorflow) (3.4.1)\n",
      "Requirement already satisfied: tensorboard-data-server<0.8.0,>=0.7.0 in d:\\anaconda\\lib\\site-packages (from tensorboard<2.18,>=2.17->tensorflow-intel==2.17.0->tensorflow) (0.7.2)\n",
      "Requirement already satisfied: werkzeug>=1.0.1 in d:\\anaconda\\lib\\site-packages (from tensorboard<2.18,>=2.17->tensorflow-intel==2.17.0->tensorflow) (3.0.3)\n",
      "Requirement already satisfied: MarkupSafe>=2.1.1 in d:\\anaconda\\lib\\site-packages (from werkzeug>=1.0.1->tensorboard<2.18,>=2.17->tensorflow-intel==2.17.0->tensorflow) (2.1.3)\n",
      "Requirement already satisfied: markdown-it-py<3.0.0,>=2.2.0 in d:\\anaconda\\lib\\site-packages (from rich->keras>=3.2.0->tensorflow-intel==2.17.0->tensorflow) (2.2.0)\n",
      "Requirement already satisfied: pygments<3.0.0,>=2.13.0 in d:\\anaconda\\lib\\site-packages (from rich->keras>=3.2.0->tensorflow-intel==2.17.0->tensorflow) (2.15.1)\n",
      "Requirement already satisfied: mdurl~=0.1 in d:\\anaconda\\lib\\site-packages (from markdown-it-py<3.0.0,>=2.2.0->rich->keras>=3.2.0->tensorflow-intel==2.17.0->tensorflow) (0.1.0)\n"
     ]
    }
   ],
   "source": [
    "# download the libraries\n",
    "\n",
    "!pip install tensorflow"
   ]
  },
  {
   "cell_type": "code",
   "execution_count": 6,
   "id": "85aafc9a-06dd-41fb-a3b3-cbe67138a192",
   "metadata": {},
   "outputs": [],
   "source": [
    "# PROBLEM 1 - Network i"
   ]
  },
  {
   "cell_type": "code",
   "execution_count": 7,
   "id": "c0a3889a-4097-492c-9038-3fcf41d139a3",
   "metadata": {
    "editable": true,
    "scrolled": true,
    "slideshow": {
     "slide_type": ""
    },
    "tags": []
   },
   "outputs": [
    {
     "ename": "NameError",
     "evalue": "name 'layers' is not defined",
     "output_type": "error",
     "traceback": [
      "\u001b[1;31m---------------------------------------------------------------------------\u001b[0m",
      "\u001b[1;31mNameError\u001b[0m                                 Traceback (most recent call last)",
      "Cell \u001b[1;32mIn[7], line 8\u001b[0m\n\u001b[0;32m      4\u001b[0m \u001b[38;5;28;01mfrom\u001b[39;00m \u001b[38;5;21;01mtensorflow\u001b[39;00m\u001b[38;5;21;01m.\u001b[39;00m\u001b[38;5;21;01mkeras\u001b[39;00m\u001b[38;5;21;01m.\u001b[39;00m\u001b[38;5;21;01mmodels\u001b[39;00m \u001b[38;5;28;01mimport\u001b[39;00m Model\n\u001b[0;32m      6\u001b[0m \u001b[38;5;66;03m# PROBLEM 1 - Network I\u001b[39;00m\n\u001b[1;32m----> 8\u001b[0m input_tensor \u001b[38;5;241m=\u001b[39m layers\u001b[38;5;241m.\u001b[39mInput(shape\u001b[38;5;241m=\u001b[39m(\u001b[38;5;241m1\u001b[39m,)) \u001b[38;5;66;03m# input has 1 feature\u001b[39;00m\n\u001b[0;32m      9\u001b[0m x \u001b[38;5;241m=\u001b[39m layers\u001b[38;5;241m.\u001b[39mDense(\u001b[38;5;241m5\u001b[39m, activation\u001b[38;5;241m=\u001b[39m\u001b[38;5;124m'\u001b[39m\u001b[38;5;124mrelu\u001b[39m\u001b[38;5;124m'\u001b[39m)(input_tensor) \u001b[38;5;66;03m# hidden layer with 5 neurons\u001b[39;00m\n\u001b[0;32m     10\u001b[0m output_tensor \u001b[38;5;241m=\u001b[39m layers\u001b[38;5;241m.\u001b[39mDense(\u001b[38;5;241m1\u001b[39m, activation\u001b[38;5;241m=\u001b[39m\u001b[38;5;124m'\u001b[39m\u001b[38;5;124mrelu\u001b[39m\u001b[38;5;124m'\u001b[39m)(x) \u001b[38;5;66;03m# output with 1 neuron\u001b[39;00m\n",
      "\u001b[1;31mNameError\u001b[0m: name 'layers' is not defined"
     ]
    }
   ],
   "source": [
    "import numpy as np\n",
    "import tensorflow as tf\n",
    "from tensorflow.keras.layers import Input, Dense\n",
    "from tensorflow.keras.models import Model\n",
    "\n",
    "# PROBLEM 1 - Network I\n",
    "\n",
    "input_tensor = layers.Input(shape=(1,)) # input has 1 feature\n",
    "x = layers.Dense(5, activation='relu')(input_tensor) # hidden layer with 5 neurons\n",
    "output_tensor = layers.Dense(1, activation='relu')(x) # output with 1 neuron\n",
    "model = models.Model(inputs=input_tensor, outputs=output_tensor)\n",
    "\n",
    "# Compile the model\n",
    "model.compile(optimizer='adam', loss='mae')\n",
    "\n",
    "# random data will be used to train the model\n",
    "X2 = np.random.rand(100, 1) # 100 samples with a single feature (input)\n",
    "Z2 = np.random.rand(100, 1) # 100 samples with a single feature (output)\n",
    "\n",
    "# Train the model with 100 epochs\n",
    "model.fit(X1, Z1, epochs=100)"
   ]
  },
  {
   "cell_type": "code",
   "execution_count": null,
   "id": "d7539c47-0f79-4486-ab15-9e2d2ddf259e",
   "metadata": {},
   "outputs": [],
   "source": [
    "# PROBLEM 1 - Network ii"
   ]
  },
  {
   "cell_type": "code",
   "execution_count": null,
   "id": "c5074732-0210-46cb-97ca-56866c394445",
   "metadata": {
    "scrolled": true
   },
   "outputs": [],
   "source": [
    "input_tensor = Input(shape=(2,)) # has 2 features\n",
    "x = Dense(3, activation='relu')(input_tensor)  # 1st hidden layer with 3 neurons\n",
    "x = Dense(3, activation='relu')(x)  # 2nd hidden layer with 3 neurons\n",
    "output_tensor = Dense(2, activation='relu')(x)  # Output layer with 2 outputs\n",
    "\n",
    "model = Model(inputs=input_tensor, outputs=output_tensor)\n",
    "\n",
    "# Compile the model\n",
    "model.compile(optimizer='adam', loss='mae')\n",
    "\n",
    "# Generate random data for training\n",
    "X2 = np.random.rand(100, 2) # 100 samples with 2 features (input)\n",
    "Z2 = np.random.rand(100, 2) # 100 samples with 2 features (output)\n",
    "\n",
    "# Train the model with 100 epochs\n",
    "model.fit(X2, Z2, epochs=100)"
   ]
  },
  {
   "cell_type": "code",
   "execution_count": null,
   "id": "a865b4f5-90ee-49a3-84c7-e6fc8281037a",
   "metadata": {},
   "outputs": [],
   "source": [
    "# PROBLEM 3 - Scenario i"
   ]
  },
  {
   "cell_type": "code",
   "execution_count": null,
   "id": "6871b0e6-f14b-474c-9f3b-5efe692967dc",
   "metadata": {
    "scrolled": true
   },
   "outputs": [],
   "source": [
    "input_tensor = layers.Input(shape=(3,)) # 3 features\n",
    "x = layers.Dense(3, activation='relu')(input_tensor) # hidden layer with 3 neurons\n",
    "output_tensor = layers.Dense(1, activation='relu')(x) # output layer with 1 neuron\n",
    "model = models.Model(inputs=input_tensor, outputs=output_tensor)\n",
    "\n",
    "# Compile the model\n",
    "model.compile(optimizer='adam', loss='mae')\n",
    "\n",
    "# The specific samples that classify a person are if they're diabetic or not\n",
    "X3 = np.array([\n",
    "    [154,85,90], # diabetic\n",
    "    [115,70,80], # normal\n",
    "    [163,96,95], # diabetic\n",
    "    [120,78,85]  # normal\n",
    "    ])\n",
    "Z3 = np.array([1,0,1,0]) # 1 being diabetic & 0 being normal\n",
    "\n",
    "# Train the model with 100 epochs\n",
    "model.fit(X3, Z3, epochs=100)"
   ]
  },
  {
   "cell_type": "code",
   "execution_count": null,
   "id": "8f8bbf77-b651-4f90-b08f-378193f97640",
   "metadata": {},
   "outputs": [],
   "source": [
    "# PROBLEM 3 - Scenario ii"
   ]
  },
  {
   "cell_type": "code",
   "execution_count": null,
   "id": "5e4e11be-ab5b-4fe1-948a-4fc14bafe58b",
   "metadata": {
    "scrolled": true
   },
   "outputs": [],
   "source": [
    "input_tensor = Input(shape=(4,)) #4 features\n",
    "x = Dense(3, activation='relu')(input_tensor)  # 1st hidden layer with 3 neurons\n",
    "x = Dense(3, activation='relu')(x)  # 2nd hidden layer with 3 neurons\n",
    "output_tensor = Dense(4, activation='relu')(x)  # Output layer with 4 neurons\n",
    "\n",
    "model = Model(inputs=input_tensor, outputs=output_tensor)\n",
    "\n",
    "# Compile the model\n",
    "model.compile(optimizer='adam', loss='mae')\n",
    "\n",
    "# These are specific samples that classify if a person is cancerous or not. \n",
    "# Based on their BMI, is/is not a vegetarian, lifestyle, and age\n",
    "X4 = np.array([\n",
    "    [32,0,0,55], # cancerous\n",
    "    [29,0,0,47], # cancerous\n",
    "    [24,1,1,28], # not\n",
    "    [20,0,1,32]  # not\n",
    "    ])\n",
    "Z4 = np.array([1,1,0,0]) # 1 being cancerous & 0 not being cancerous\n",
    "\n",
    "# Train the model with 100 epochs\n",
    "model.fit(X4, Z4, epochs=100)"
   ]
  }
 ],
 "metadata": {
  "kernelspec": {
   "display_name": "Python 3 (ipykernel)",
   "language": "python",
   "name": "python3"
  },
  "language_info": {
   "codemirror_mode": {
    "name": "ipython",
    "version": 3
   },
   "file_extension": ".py",
   "mimetype": "text/x-python",
   "name": "python",
   "nbconvert_exporter": "python",
   "pygments_lexer": "ipython3",
   "version": "3.12.4"
  }
 },
 "nbformat": 4,
 "nbformat_minor": 5
}
